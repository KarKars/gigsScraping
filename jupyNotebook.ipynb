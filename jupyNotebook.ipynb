{
 "cells": [
  {
   "cell_type": "code",
   "execution_count": 31,
   "metadata": {},
   "outputs": [
    {
     "name": "stderr",
     "output_type": "stream",
     "text": [
      "C:\\Users\\DELL\\AppData\\Local\\Temp\\ipykernel_13980\\220190612.py:7: DeprecationWarning: executable_path has been deprecated, please pass in a Service object\n",
      "  driver = webdriver.Chrome(executable_path=\"C:\\\\Users\\\\DELL\\\\Documents\\\\work\\\\fiverr\\\\gig2\\\\gig_scripy\\\\chromedriver.exe\")\n"
     ]
    }
   ],
   "source": [
    "from lib2to3.pgen2 import driver\n",
    "from selenium import webdriver\n",
    "from selenium.webdriver.common.by import By\n",
    "import pandas as pd\n",
    "import openpyxl\n",
    "\n",
    "driver = webdriver.Chrome(executable_path=\"C:\\\\Users\\\\DELL\\\\Documents\\\\work\\\\fiverr\\\\gig2\\\\gig_scripy\\\\chromedriver.exe\")\n",
    "driver.get(\"https://www.fiverr.com/search/gigs?query=website%20banner&pos=3&context=recommendation&context_alg=related_search_terms&source=toggle_filters&ref=is_seller_online%3Atrue\")\n"
   ]
  },
  {
   "cell_type": "code",
   "execution_count": 32,
   "metadata": {},
   "outputs": [],
   "source": [
    "titles = driver.find_elements(By.PARTIAL_LINK_TEXT,'I will')\n",
    "scores = driver.find_elements(By.CLASS_NAME,'gig-rating')"
   ]
  },
  {
   "cell_type": "code",
   "execution_count": 33,
   "metadata": {},
   "outputs": [
    {
     "name": "stdout",
     "output_type": "stream",
     "text": [
      "['610', '23', '1000', '82', '11', '1000', '75', '162', '9', '2', '13', '124', '1', '34', '1', '202', '59', '543', '6', '11', '95', '2', '5', '6', '26', '1', '5', '12', '2', '13', '13', '4', '3', '8', '25', '37', '2', '2', '7', '2', '2', '1', '18', '4']\n"
     ]
    }
   ],
   "source": [
    "ratings = []\n",
    "\n",
    "for score in scores:\n",
    "    my_score = score.find_element(By.TAG_NAME, 'span').text\n",
    "    my_score = my_score[1:-1]\n",
    "    if 'k+' in my_score:\n",
    "        my_score = my_score.replace('1k+', '1000')\n",
    "    ratings.append(my_score)\n",
    "print(ratings)\n"
   ]
  },
  {
   "cell_type": "code",
   "execution_count": 34,
   "metadata": {},
   "outputs": [
    {
     "name": "stdout",
     "output_type": "stream",
     "text": [
      "['I will make professional website banner,slider,ad banner', 'I will design website banner, header, slider, hero image, and web banners', 'I will design a professional website banner or header', 'I will design professional website banner, header image, slider, cover, and web banners', 'I will create animated GIF banner for google, social media, and website', 'I will design banner, ads, image post or header for your website', 'I will design web banners, website banner ads or image editing', 'I will do stylish web banner, header, social media post and website cover', 'I will design an amazing youtube, twitch, facebook, website banner', 'I will design unique website banner, slider or header, ads banner, shopify, esty banner', 'I will design eye catching social media cover or website banner', 'I will design social media posts, website ad, banner ad', 'I will design fantastic website banner, web ads, header, slider', 'I will design shopify, website banner, website header, slider, hero image', 'I will web banner ads, banner design, product ad, website slider', 'I will design attractive website banner, google banner ads or adwords ads, slider', 'I will design awesome website banner, header image, slider banner', 'I will design website, facebook, instagram banner, cover, ad', 'I will design google display banner ads, animated banner ads, website banners', 'I will design custom website banner, product banner, fashion banner, and web banner', 'I will make a unique website banner, slider, website ads', 'I will design web banner, shopify banner, website slider, etsy banner,email, fb, header', 'I will do amazing web banner facebook banner website banner quickly', 'I will design a professional website banner, ad or header', 'I will design a professional website banner or header', 'I will design website banner, facebook cover, ads banner for you', 'I will design twitch, facebook, website banner and print ads for business', 'I will design fitness banners for shopify website or social media', 'I will design a great website header, slider or banner', 'I will do website linkedin twitter or etsy shopify ads banner cover design', 'I will create banner for your shopify, wix or wordpress website', 'I will custom design banners youtube twitch website', 'I will create a professional website banner or header', 'I will design your website banners and sliders', 'I will create a minimalist website banner or social media banner', 'I will design social media or website banner', 'I will design website banners for fashion websites', 'I will design web banner website header social media ads', 'I will design amazing website ads banner, header, slider, and web banners', 'I will design attractive social media post, website banner, cover, header and templates', 'I will design shopify banner, website banner, and header', 'I will design website header banner, facebook post, instagram marketing', 'I will design website banner, header, ads and any custom banner', 'I will design a professional website banner,header,ads,cover,flyer', 'I will develop a professional website and social media banners', 'I will design website banner, product banner, shopify banner, header and slider', 'I will do banner, cover design for social media or website', 'I will design attractive website banners and social media banners']\n"
     ]
    }
   ],
   "source": [
    "gig_titles = []\n",
    "for title in titles:\n",
    "    gig_titles.append(title.text)\n",
    "print(gig_titles)"
   ]
  },
  {
   "cell_type": "code",
   "execution_count": null,
   "metadata": {},
   "outputs": [],
   "source": [
    "def splitWords(mainList):\n",
    "    titles = []\n",
    "    for description in mainList:\n",
    "        word = description.replace(',', ' ')\n",
    "        word = word.split()\n",
    "        titles.append(word)\n",
    "\n",
    "    flatList = [word for title in titles for word in title]\n",
    "\n",
    "    count = {}\n",
    "\n",
    "    for word in flatList:\n",
    "        count.setdefault(word, 0)\n",
    "        count[word] = count[word] + 1\n",
    "\n",
    "    count = sorted(count.items(), key = lambda item:item[1], reverse=True)\n",
    "    return count\n",
    "\n",
    "print(splitWords(gig_titles))\n",
    "\n"
   ]
  },
  {
   "cell_type": "code",
   "execution_count": 36,
   "metadata": {},
   "outputs": [],
   "source": [
    "gigs = []\n",
    "for rating, title in zip(ratings, gig_titles):\n",
    "    gig_item = {\n",
    "        'title':title,\n",
    "        'rating':int(rating)\n",
    "    }\n",
    "    gigs.append(gig_item)\n"
   ]
  },
  {
   "cell_type": "code",
   "execution_count": 42,
   "metadata": {},
   "outputs": [
    {
     "name": "stdout",
     "output_type": "stream",
     "text": [
      "[('banner', 31), ('website', 26), ('I', 24), ('will', 24), ('design', 18), ('or', 11), ('header', 9), ('ads', 7), ('slider', 7), ('social', 7), ('media', 7), ('image', 6), ('and', 6), ('cover', 5), ('web', 5), ('a', 4), ('professional', 4), ('for', 4), ('ad', 4), ('banners', 4), ('shopify', 4), ('create', 3), ('post', 2), ('your', 2), ('make', 2), ('facebook', 2), ('google', 2), ('do', 2), ('hero', 2), ('custom', 2), ('instagram', 1), ('attractive', 1), ('adwords', 1), ('stylish', 1), ('posts', 1), ('unique', 1), ('editing', 1), ('awesome', 1), ('minimalist', 1), ('any', 1), ('eye', 1), ('catching', 1), ('linkedin', 1), ('twitter', 1), ('etsy', 1), ('wix', 1), ('wordpress', 1), ('fitness', 1), ('animated', 1), ('GIF', 1), ('product', 1), ('fashion', 1), ('an', 1), ('amazing', 1), ('youtube', 1), ('twitch', 1)]\n"
     ]
    }
   ],
   "source": [
    "new_gigs = sorted(gigs, key = lambda item:item['rating'], reverse= True)\n",
    "best_gigs = new_gigs[:-20]\n",
    "\n",
    "best_gigs_List = [dict_gig['title'] for dict_gig in best_gigs]\n",
    "\n",
    "def splitWords(mainList):\n",
    "    titles = []\n",
    "    for description in mainList:\n",
    "        word = description.replace(',', ' ')\n",
    "        word = word.split()\n",
    "        titles.append(word)\n",
    "\n",
    "    flatList = [word for title in titles for word in title]\n",
    "\n",
    "    count = {}\n",
    "\n",
    "    for word in flatList:\n",
    "        count.setdefault(word, 0)\n",
    "        count[word] = count[word] + 1\n",
    "\n",
    "    count = sorted(count.items(), key = lambda item:item[1], reverse=True)\n",
    "    return count\n",
    "\n",
    "print(splitWords(best_gigs_List))"
   ]
  },
  {
   "cell_type": "code",
   "execution_count": 44,
   "metadata": {},
   "outputs": [],
   "source": [
    "df = pd.DataFrame(gigs)\n",
    "df['rating'] = pd.to_numeric(df['rating'])\n",
    "df.sort_values(by= 'rating', ascending=False)\n",
    "df.to_excel('ratings1.xlsx', sheet_name='ratings')"
   ]
  },
  {
   "cell_type": "code",
   "execution_count": null,
   "metadata": {},
   "outputs": [],
   "source": []
  }
 ],
 "metadata": {
  "interpreter": {
   "hash": "56b0cee5fb9066953e949596f2de02100c613a194a114d4081b3242c6076ec1b"
  },
  "kernelspec": {
   "display_name": "Python 3.10.0 64-bit ('.venv': venv)",
   "language": "python",
   "name": "python3"
  },
  "language_info": {
   "codemirror_mode": {
    "name": "ipython",
    "version": 3
   },
   "file_extension": ".py",
   "mimetype": "text/x-python",
   "name": "python",
   "nbconvert_exporter": "python",
   "pygments_lexer": "ipython3",
   "version": "3.10.0"
  },
  "orig_nbformat": 4
 },
 "nbformat": 4,
 "nbformat_minor": 2
}
